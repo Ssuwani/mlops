{
 "cells": [
  {
   "cell_type": "markdown",
   "id": "5889d8d8-51ed-4b2d-80b2-eb023358911f",
   "metadata": {},
   "source": [
    "train.ipynb  \n",
    "\n",
    "\n",
    "**필요한 모델 Import**"
   ]
  },
  {
   "cell_type": "code",
   "execution_count": 1,
   "id": "7e495449-fc9a-46f7-9bbc-60c65a1e2efe",
   "metadata": {},
   "outputs": [],
   "source": [
    "import tensorflow as tf"
   ]
  },
  {
   "cell_type": "markdown",
   "id": "4fdc5d7a-37f9-4fc5-9170-5bfa6ea718d4",
   "metadata": {},
   "source": [
    "**MNIST DATASET 불러오기**"
   ]
  },
  {
   "cell_type": "code",
   "execution_count": 3,
   "id": "59629116-793e-4593-a789-f862d9cfb51a",
   "metadata": {},
   "outputs": [
    {
     "name": "stdout",
     "output_type": "stream",
     "text": [
      "Downloading data from https://storage.googleapis.com/tensorflow/tf-keras-datasets/mnist.npz\n",
      "11493376/11490434 [==============================] - 2s 0us/step\n"
     ]
    }
   ],
   "source": [
    "mnist = tf.keras.datasets.mnist\n",
    "(train_x, train_y), (test_x, test_y) = mnist.load_data()\n",
    "train_x, test_x = train_x / 255.0, test_x / 255.0"
   ]
  },
  {
   "cell_type": "markdown",
   "id": "5288521c-7cc0-4b5f-b21f-d2c04126cef4",
   "metadata": {},
   "source": [
    "**간단한 모델 정의**"
   ]
  },
  {
   "cell_type": "code",
   "execution_count": 4,
   "id": "759c58e8-22ee-4966-8a02-8ebc0fab769b",
   "metadata": {},
   "outputs": [],
   "source": [
    "model = tf.keras.Sequential([\n",
    "    tf.keras.layers.Flatten(input_shape=(28, 28)), # (batch, 28, 28) -> (batch, 784)\n",
    "    tf.keras.layers.Dense(128, activation='relu'), # (batch, 784) -> (batch, 128)\n",
    "    tf.keras.layers.Dense(10, activation='softmax') # (batch, 128) -> (batch, 10)\n",
    "])"
   ]
  },
  {
   "cell_type": "markdown",
   "id": "be925e7d-e060-4dad-bb20-5503d4a706a5",
   "metadata": {},
   "source": [
    "**모델 compile (환경설정?)**"
   ]
  },
  {
   "cell_type": "code",
   "execution_count": 5,
   "id": "3ae99ec5-ba84-4040-a100-1576ccd814a1",
   "metadata": {},
   "outputs": [],
   "source": [
    "model.compile(\n",
    "    optimizer='adam',\n",
    "    loss='sparse_categorical_crossentropy',\n",
    "    metrics=['accuracy']\n",
    ")"
   ]
  },
  {
   "cell_type": "markdown",
   "id": "7a7abbfa-c102-419a-a1d2-b3cdf7a05af6",
   "metadata": {},
   "source": [
    "**모델 학습**"
   ]
  },
  {
   "cell_type": "code",
   "execution_count": 6,
   "id": "5bc6c954-f2bf-4c92-b23a-c1e7981fa01e",
   "metadata": {},
   "outputs": [
    {
     "name": "stdout",
     "output_type": "stream",
     "text": [
      "Epoch 1/5\n",
      "1875/1875 [==============================] - 2s 1ms/step - loss: 0.2551 - accuracy: 0.9270\n",
      "Epoch 2/5\n",
      "1875/1875 [==============================] - 2s 1ms/step - loss: 0.1131 - accuracy: 0.9665\n",
      "Epoch 3/5\n",
      "1875/1875 [==============================] - 2s 1ms/step - loss: 0.0780 - accuracy: 0.9768\n",
      "Epoch 4/5\n",
      "1875/1875 [==============================] - 2s 1ms/step - loss: 0.0590 - accuracy: 0.9821\n",
      "Epoch 5/5\n",
      "1875/1875 [==============================] - 2s 1ms/step - loss: 0.0467 - accuracy: 0.9854\n"
     ]
    },
    {
     "data": {
      "text/plain": [
       "<tensorflow.python.keras.callbacks.History at 0x7fc75f4e8d60>"
      ]
     },
     "execution_count": 6,
     "metadata": {},
     "output_type": "execute_result"
    }
   ],
   "source": [
    "model.fit(train_x, train_y, epochs=5)"
   ]
  },
  {
   "cell_type": "markdown",
   "id": "12240789-fca9-4351-8fdf-93a718543c49",
   "metadata": {},
   "source": [
    "**학습된 모델 저장**"
   ]
  },
  {
   "cell_type": "code",
   "execution_count": 28,
   "id": "567859e5-d362-4e4d-bc79-9d805c9a7301",
   "metadata": {},
   "outputs": [
    {
     "name": "stdout",
     "output_type": "stream",
     "text": [
      "INFO:tensorflow:Assets written to: models/model.ckpt/assets\n"
     ]
    }
   ],
   "source": [
    "model.save('models/model.ckpt')"
   ]
  },
  {
   "cell_type": "code",
   "execution_count": null,
   "id": "df3076a2-b268-4bd4-80e2-0692858945b0",
   "metadata": {},
   "outputs": [],
   "source": []
  }
 ],
 "metadata": {
  "kernelspec": {
   "display_name": "Python 3",
   "language": "python",
   "name": "python3"
  },
  "language_info": {
   "codemirror_mode": {
    "name": "ipython",
    "version": 3
   },
   "file_extension": ".py",
   "mimetype": "text/x-python",
   "name": "python",
   "nbconvert_exporter": "python",
   "pygments_lexer": "ipython3",
   "version": "3.8.10"
  }
 },
 "nbformat": 4,
 "nbformat_minor": 5
}
