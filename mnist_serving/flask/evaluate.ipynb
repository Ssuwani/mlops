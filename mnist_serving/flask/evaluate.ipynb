{
 "cells": [
  {
   "cell_type": "markdown",
   "id": "f0b85d31-bd55-4449-86f1-6f4bc22840f6",
   "metadata": {},
   "source": [
    "evaluate.ipynb  \n",
    "\n",
    "\n",
    "**필요한 모델 Import**"
   ]
  },
  {
   "cell_type": "code",
   "execution_count": 24,
   "id": "5ee5e672-a924-4b5a-a9fb-d358eb4525ba",
   "metadata": {},
   "outputs": [],
   "source": [
    "import tensorflow as tf\n",
    "import numpy as np\n",
    "import matplotlib.pyplot as plt"
   ]
  },
  {
   "cell_type": "markdown",
   "id": "ae6ffb90-4f09-457c-a25a-9bca783a1a01",
   "metadata": {},
   "source": [
    "**MNIST DATASET 불러오기**"
   ]
  },
  {
   "cell_type": "code",
   "execution_count": 2,
   "id": "863eeffd-924e-4840-9a21-ecc1933dd60f",
   "metadata": {},
   "outputs": [],
   "source": [
    "mnist = tf.keras.datasets.mnist\n",
    "_, (test_x, test_y) = mnist.load_data() # train 데이터는 필요 없어서 _ 로 받음\n",
    "test_x = test_x / 255.0 # 학습시에도 다음과 같이 전처리를 했기 때문에 동일하게 처리"
   ]
  },
  {
   "cell_type": "markdown",
   "id": "6fd0ce32-8b8e-4dcf-8963-d58945c525a6",
   "metadata": {},
   "source": [
    "**모델 불러오기**"
   ]
  },
  {
   "cell_type": "code",
   "execution_count": 38,
   "id": "32052917-5559-4502-a035-d8548d669e72",
   "metadata": {},
   "outputs": [],
   "source": [
    "model_path = 'models/model.ckpt'\n",
    "model = tf.keras.models.load_model(model_path)"
   ]
  },
  {
   "cell_type": "markdown",
   "id": "6ea0ede8-3f71-4dd7-8be1-8bceb0f0bd0f",
   "metadata": {},
   "source": [
    "**평가히기**"
   ]
  },
  {
   "cell_type": "code",
   "execution_count": 39,
   "id": "00f63baa-02e7-4e09-88db-fb4fb91a2ad6",
   "metadata": {},
   "outputs": [],
   "source": [
    "rand_num = np.random.randint(1, 10000) # 1~10000 사이 랜덤한 정수"
   ]
  },
  {
   "cell_type": "markdown",
   "id": "ac35eb14-b0da-4a06-ac27-640e6d8d4bb3",
   "metadata": {},
   "source": [
    "predict 함수 정의\n",
    "\n",
    "이미지 1개를 받아서 결과를 예측한다. model은 (batch, 28, 28) 형태로 입력을 받도록 구성되어 있기 때문에 reshape을 거쳤음"
   ]
  },
  {
   "cell_type": "code",
   "execution_count": 40,
   "id": "606e4708-54b2-47ac-bb3f-8ab183301d74",
   "metadata": {},
   "outputs": [],
   "source": [
    "def predict(single_image):\n",
    "    image_with_batch = single_image.reshape(-1, 28, 28)\n",
    "    predicted = model(image_with_batch)\n",
    "    return np.argmax(predicted[0])"
   ]
  },
  {
   "cell_type": "markdown",
   "id": "4fcbc87c-3f60-4cae-bdaa-65680a18c396",
   "metadata": {},
   "source": [
    "랜덤 정수 값을 바탕으로 임의의 이미지를 불러옴\n",
    "\n",
    "정답값과 예측값"
   ]
  },
  {
   "cell_type": "code",
   "execution_count": 44,
   "id": "13ee0f6c-f0dc-4cad-8eca-5ab24ea1a57a",
   "metadata": {},
   "outputs": [
    {
     "data": {
      "text/plain": [
       "'정답은 8 예측값은 8'"
      ]
     },
     "execution_count": 44,
     "metadata": {},
     "output_type": "execute_result"
    },
    {
     "data": {
      "image/png": "[encoded data removed]",
      "text/plain": [
       "<Figure size 432x288 with 1 Axes>"
      ]
     },
     "metadata": {
      "needs_background": "light"
     },
     "output_type": "display_data"
    }
   ],
   "source": [
    "image, label = test_x[rand_num], test_y[rand_num]\n",
    "plt.imshow(image)\n",
    "result = predict(image)\n",
    "f\"정답은 {label} 예측값은 {result}\""
   ]
  },
  {
   "cell_type": "code",
   "execution_count": 45,
   "id": "c8185d2b-cacd-46af-a2e2-aa13ffc2ba73",
   "metadata": {},
   "outputs": [
    {
     "data": {
      "text/plain": [
       "<Figure size 432x288 with 0 Axes>"
      ]
     },
     "metadata": {},
     "output_type": "display_data"
    }
   ],
   "source": [
    "plt.savefig('testplot.jpg')"
   ]
  },
  {
   "cell_type": "code",
   "execution_count": null,
   "id": "8f3fe3b7-3c5d-49a0-9162-d76d307d8ac1",
   "metadata": {},
   "outputs": [],
   "source": []
  }
 ],
 "metadata": {
  "kernelspec": {
   "display_name": "Python 3",
   "language": "python",
   "name": "python3"
  },
  "language_info": {
   "codemirror_mode": {
    "name": "ipython",
    "version": 3
   },
   "file_extension": ".py",
   "mimetype": "text/x-python",
   "name": "python",
   "nbconvert_exporter": "python",
   "pygments_lexer": "ipython3",
   "version": "3.8.10"
  }
 },
 "nbformat": 4,
 "nbformat_minor": 5
}
